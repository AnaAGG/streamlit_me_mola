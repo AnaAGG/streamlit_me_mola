{
 "cells": [
  {
   "cell_type": "markdown",
   "metadata": {},
   "source": [
    "![portada](../images/portada.jpg)"
   ]
  },
  {
   "cell_type": "markdown",
   "metadata": {},
   "source": [
    "## ¿Qué es Streamlit?   \n",
    "\n",
    "Streamlit is an open-source app framework for Machine Learning and Data Science teams. Create beautiful data apps in hours, not weeks. All in pure Python.    \n",
    "\n",
    "As always -->  https://streamlit.io/   "
   ]
  },
  {
   "cell_type": "markdown",
   "metadata": {},
   "source": [
    "Cuanto más leas la documentación, menos tendrás que buscar en google maifren 🥸"
   ]
  },
  {
   "cell_type": "markdown",
   "metadata": {},
   "source": [
    "## ¿Qué vamos a ver con streamlit? \n",
    "- Insertar imágenes\n",
    "- Hacer gráficos propios de streamlit\n",
    "- Integración de gráficos con plotly\n",
    "- Integración de mapas de folium\n",
    "- Renderizado HTML"
   ]
  },
  {
   "cell_type": "code",
   "execution_count": 1,
   "metadata": {},
   "outputs": [],
   "source": [
    "import pandas as pd\n",
    "import nltk\n",
    "from nltk.sentiment.vader import SentimentIntensityAnalyzer\n",
    "import plotly.express as px"
   ]
  },
  {
   "cell_type": "code",
   "execution_count": 2,
   "metadata": {},
   "outputs": [],
   "source": [
    "#nltk.download('vader_lexicon')"
   ]
  },
  {
   "cell_type": "code",
   "execution_count": 3,
   "metadata": {},
   "outputs": [],
   "source": [
    "#Un par de funciones que voy a utilizar para sacar la polaridad y sacar orden de la frase\n",
    "def polarity(x):\n",
    "    sia = SentimentIntensityAnalyzer()\n",
    "    polarity = sia.polarity_scores(x)\n",
    "    pol = polarity['compound']\n",
    "    return pol"
   ]
  },
  {
   "cell_type": "code",
   "execution_count": 4,
   "metadata": {},
   "outputs": [],
   "source": [
    "#Proceso de limpiado de los datos para dejarlos como los necesito"
   ]
  },
  {
   "cell_type": "code",
   "execution_count": null,
   "metadata": {},
   "outputs": [],
   "source": [
    "df = pd.read_pickle(\"./adventure_pickle_CLEAN.pkl\")\n",
    "df.reset_index(drop=True,inplace=True)\n",
    "df.rename(columns={'Character':'character_name',\"Dialogue\":\"dialogue\"},inplace=True)\n",
    "df[\"polarity\"] = df[\"dialogue\"].apply(polarity)\n",
    "df = df.drop(columns=[\"Episode\", \"Line\", \"Action\"])"
   ]
  },
  {
   "cell_type": "code",
   "execution_count": null,
   "metadata": {},
   "outputs": [],
   "source": [
    "#Lo exporto a pickle para leerlo desde streamlit\n",
    "df.to_pickle(\"clean.pkl\")"
   ]
  },
  {
   "cell_type": "code",
   "execution_count": 5,
   "metadata": {},
   "outputs": [],
   "source": [
    "#Lo cargo again porque no quiero ejecutar la celda de arriba que tarda en hacer la polaridad\n",
    "df=pd.read_pickle(\"../data/clean.pkl\")"
   ]
  },
  {
   "cell_type": "code",
   "execution_count": 6,
   "metadata": {},
   "outputs": [
    {
     "data": {
      "text/html": [
       "<div>\n",
       "<style scoped>\n",
       "    .dataframe tbody tr th:only-of-type {\n",
       "        vertical-align: middle;\n",
       "    }\n",
       "\n",
       "    .dataframe tbody tr th {\n",
       "        vertical-align: top;\n",
       "    }\n",
       "\n",
       "    .dataframe thead th {\n",
       "        text-align: right;\n",
       "    }\n",
       "</style>\n",
       "<table border=\"1\" class=\"dataframe\">\n",
       "  <thead>\n",
       "    <tr style=\"text-align: right;\">\n",
       "      <th></th>\n",
       "      <th>character_name</th>\n",
       "      <th>dialogue</th>\n",
       "      <th>polarity</th>\n",
       "      <th>frase</th>\n",
       "    </tr>\n",
       "  </thead>\n",
       "  <tbody>\n",
       "    <tr>\n",
       "      <th>0</th>\n",
       "      <td>banana guard</td>\n",
       "      <td>Ah, this is hard to watch. I'm gonna look away.</td>\n",
       "      <td>-0.1027</td>\n",
       "      <td>Frase 1</td>\n",
       "    </tr>\n",
       "    <tr>\n",
       "      <th>1</th>\n",
       "      <td>banana guard</td>\n",
       "      <td>This place could use a scarecrow.</td>\n",
       "      <td>-0.2023</td>\n",
       "      <td>Frase 2</td>\n",
       "    </tr>\n",
       "    <tr>\n",
       "      <th>2</th>\n",
       "      <td>banana guard</td>\n",
       "      <td>Uh, I-I said this place could use a scarecrow.</td>\n",
       "      <td>-0.2023</td>\n",
       "      <td>Frase 3</td>\n",
       "    </tr>\n",
       "    <tr>\n",
       "      <th>3</th>\n",
       "      <td>banana guard</td>\n",
       "      <td>She slapped my butt!</td>\n",
       "      <td>0.0000</td>\n",
       "      <td>Frase 4</td>\n",
       "    </tr>\n",
       "    <tr>\n",
       "      <th>4</th>\n",
       "      <td>banana guard</td>\n",
       "      <td>[' I’m glad you brought this matter to the aut...</td>\n",
       "      <td>0.4810</td>\n",
       "      <td>Frase 5</td>\n",
       "    </tr>\n",
       "  </tbody>\n",
       "</table>\n",
       "</div>"
      ],
      "text/plain": [
       "  character_name                                           dialogue  polarity  \\\n",
       "0   banana guard    Ah, this is hard to watch. I'm gonna look away.   -0.1027   \n",
       "1   banana guard                  This place could use a scarecrow.   -0.2023   \n",
       "2   banana guard     Uh, I-I said this place could use a scarecrow.   -0.2023   \n",
       "3   banana guard                               She slapped my butt!    0.0000   \n",
       "4   banana guard  [' I’m glad you brought this matter to the aut...    0.4810   \n",
       "\n",
       "     frase  \n",
       "0  Frase 1  \n",
       "1  Frase 2  \n",
       "2  Frase 3  \n",
       "3  Frase 4  \n",
       "4  Frase 5  "
      ]
     },
     "execution_count": 6,
     "metadata": {},
     "output_type": "execute_result"
    }
   ],
   "source": [
    "df.head()"
   ]
  },
  {
   "cell_type": "code",
   "execution_count": null,
   "metadata": {},
   "outputs": [],
   "source": [
    "#Prueba de data para cuando filtremos por un solo personaje para hacer el line chart"
   ]
  },
  {
   "cell_type": "markdown",
   "metadata": {},
   "source": [
    "Como lo vamos a hacer con plotly y luego lo visualizamos en streamlit dejo doc y lo hago aquí para luego pasarlo a streamlit\n",
    "https://plotly.com/python/line-charts/"
   ]
  },
  {
   "cell_type": "code",
   "execution_count": null,
   "metadata": {},
   "outputs": [],
   "source": [
    "#Preparamos datos prueba para bar chart que cuenta las frases de cada personaje (modo streamlit)\n",
    "data_c = df.groupby(\"character_name\").agg({\"character_name\":'count'}).rename(columns={\"character_name\":\"character_name\", \"character_name\":\"número de frases\"}).reset_index()\n",
    "data_c.head()"
   ]
  },
  {
   "cell_type": "code",
   "execution_count": null,
   "metadata": {},
   "outputs": [],
   "source": [
    "# Para ejemplos de bar charts agrupo por personaje y hago la media de su polaridad\n",
    "# Ojo que streamlit necesita un formato concreto para los gráficos, solamente la columna que queremos mostrar \n",
    "# Y la X debe ser el index\n",
    "data_g = df.groupby(\"character_name\").agg({'polarity': 'mean'}).reset_index().set_index(\"character_name\", drop=True)\n",
    "data_g.head()"
   ]
  },
  {
   "cell_type": "markdown",
   "metadata": {},
   "source": [
    "https://docs.streamlit.io/en/stable/develop_streamlit_components.html"
   ]
  },
  {
   "cell_type": "code",
   "execution_count": null,
   "metadata": {},
   "outputs": [],
   "source": [
    "import codecs\n",
    "f=codecs.open(\"../data/mapa.html\", 'r')\n",
    "#print(f.read())"
   ]
  }
 ],
 "metadata": {
  "kernelspec": {
   "display_name": "Python 3",
   "language": "python",
   "name": "python3"
  },
  "language_info": {
   "codemirror_mode": {
    "name": "ipython",
    "version": 3
   },
   "file_extension": ".py",
   "mimetype": "text/x-python",
   "name": "python",
   "nbconvert_exporter": "python",
   "pygments_lexer": "ipython3",
   "version": "3.7.7"
  },
  "toc": {
   "base_numbering": 1,
   "nav_menu": {},
   "number_sections": true,
   "sideBar": true,
   "skip_h1_title": true,
   "title_cell": "Table of Contents",
   "title_sidebar": "Contents",
   "toc_cell": false,
   "toc_position": {},
   "toc_section_display": true,
   "toc_window_display": false
  }
 },
 "nbformat": 4,
 "nbformat_minor": 4
}
